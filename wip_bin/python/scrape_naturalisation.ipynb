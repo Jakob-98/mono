{
 "cells": [
  {
   "cell_type": "code",
   "execution_count": 3,
   "metadata": {},
   "outputs": [],
   "source": [
    "import requests\n",
    "from bs4 import BeautifulSoup\n",
    "\n",
    "URL = \"https://concern.ir.rotterdam.nl/afspraak/maken/product/indienen-naturalisatieverzoek\"\n",
    "\n",
    "def check_website():\n",
    "    r = requests.get(URL)\n",
    "    soup = BeautifulSoup(r.content, 'html.parser')\n",
    "    items = soup.find_all('p', class_='mb-0')\n",
    "    \n",
    "    count = 0\n",
    "    for item in items:\n",
    "        if \"Geen tijden beschikbaar.\" in item.text:\n",
    "            count += 1\n",
    "            \n",
    "    if count != 2:  # if the text does not appear twice\n",
    "        print(\"HELLO\")\n",
    "        send_notification()\n",
    "    else:\n",
    "        print(\"NOPE\")\n",
    "\n",
    "import requests\n",
    "\n",
    "BOT_TOKEN = \"\"\n",
    "CHAT_ID = \"\"\n",
    "\n",
    "def send_notification():\n",
    "    base_url = f\"https://api.telegram.org/bot{BOT_TOKEN}/sendMessage\"\n",
    "    message = \"The website has changed!\"\n",
    "    params = {\n",
    "        \"chat_id\": CHAT_ID,\n",
    "        \"text\": message\n",
    "    }\n",
    "    requests.post(base_url, params=params)\n",
    "\n",
    "\n",
    "if __name__ == \"__main__\":\n",
    "    send_notification()\n"
   ]
  },
  {
   "cell_type": "code",
   "execution_count": null,
   "metadata": {},
   "outputs": [],
   "source": []
  }
 ],
 "metadata": {
  "kernelspec": {
   "display_name": "Python 3",
   "language": "python",
   "name": "python3"
  },
  "language_info": {
   "codemirror_mode": {
    "name": "ipython",
    "version": 3
   },
   "file_extension": ".py",
   "mimetype": "text/x-python",
   "name": "python",
   "nbconvert_exporter": "python",
   "pygments_lexer": "ipython3",
   "version": "3.10.7"
  }
 },
 "nbformat": 4,
 "nbformat_minor": 2
}

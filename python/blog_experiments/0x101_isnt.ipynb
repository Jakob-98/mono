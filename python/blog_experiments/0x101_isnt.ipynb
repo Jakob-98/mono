{
 "cells": [
  {
   "cell_type": "code",
   "execution_count": 29,
   "metadata": {},
   "outputs": [
    {
     "name": "stdout",
     "output_type": "stream",
     "text": [
      "AYE!\n",
      "NAY!\n",
      "AYE!\n",
      "AYE!\n"
     ]
    }
   ],
   "source": [
    "a = 256\n",
    "b = 256\n",
    "aye(a is b)\n",
    "\n",
    "a = 257\n",
    "b = 257\n",
    "aye(a is b)\n",
    "\n",
    "aye(256 is 256)\n",
    "aye(257 is 257)"
   ]
  },
  {
   "cell_type": "code",
   "execution_count": 34,
   "metadata": {},
   "outputs": [
    {
     "name": "stdout",
     "output_type": "stream",
     "text": [
      "AYE!\n",
      "AYE!\n",
      "AYE!\n",
      "AYE!\n",
      "AYE!\n"
     ]
    }
   ],
   "source": [
    "a = 0x100 #256\n",
    "b = 0x100\n",
    "\n",
    "aye(a is b)\n",
    "\n",
    "a = eval(\"0x100\")\n",
    "b = eval(\"0x100\")\n",
    "\n",
    "aye(a is b)\n",
    "\n",
    "aye(eval(\"0x100\") is eval(\"0x100\"))\n",
    "aye(eval(\"0x100\") is 256)\n",
    "aye(0x100 is 0x100)"
   ]
  },
  {
   "cell_type": "code",
   "execution_count": 33,
   "metadata": {},
   "outputs": [
    {
     "name": "stdout",
     "output_type": "stream",
     "text": [
      "NAY!\n",
      "NAY!\n",
      "NAY!\n",
      "NAY!\n",
      "AYE!\n"
     ]
    }
   ],
   "source": [
    "a = 0x101 #257\n",
    "b = 0x101\n",
    "\n",
    "aye(a is b)\n",
    "\n",
    "a = eval(\"0x101\")\n",
    "b = eval(\"0x101\")\n",
    "\n",
    "aye(a is b)\n",
    "\n",
    "aye(eval(\"0x101\") is eval(\"0x101\"))\n",
    "aye(eval(\"0x101\") is 257)\n",
    "aye(0x101 is 0x101)"
   ]
  },
  {
   "cell_type": "code",
   "execution_count": 50,
   "metadata": {},
   "outputs": [
    {
     "name": "stdout",
     "output_type": "stream",
     "text": [
      "1459253420240 1459253420240\n",
      "1459253420240 1459253420240 1459253420240 1459253420240\n"
     ]
    }
   ],
   "source": [
    "a = 0x100\n",
    "b = 0x100\n",
    "c = 256\n",
    "d = eval(\"0x100\")\n",
    "\n",
    "print(id(0x100), id(0x100))\n",
    "print(id(a), id(b), id(c), id(d))"
   ]
  },
  {
   "cell_type": "code",
   "execution_count": 58,
   "metadata": {},
   "outputs": [
    {
     "name": "stdout",
     "output_type": "stream",
     "text": [
      "1459355081808 1459355081808 1459355081808 1459355075600 1459355081712\n",
      "1459355085584 1459355085648 1459355077712 1459355080240 1459355081328\n"
     ]
    }
   ],
   "source": [
    "a = 0x101\n",
    "b = 0x101 #257\n",
    "c = 257\n",
    "d = eval(\"0x101\")\n",
    "\n",
    "\n",
    "print(id(0x101), id(0x101), id(257), id(eval(\"0x101\")), id(eval(\"257\")))\n",
    "print(id(a), id(b), id(c), id(d), id(0x101)) #interesting, id(0x101) is always the same per line, but changes when I re-trigger cell? TODO GPT write, but also consider why eval(0x) if I can just eval(\"256\")"
   ]
  },
  {
   "cell_type": "code",
   "execution_count": null,
   "metadata": {},
   "outputs": [],
   "source": []
  },
  {
   "cell_type": "code",
   "execution_count": 9,
   "metadata": {},
   "outputs": [],
   "source": [
    "def aye(a,b):\n",
    "    print(\"AYE\") if a==b else print(\"NAY\")\n",
    "hmm = lambda a,b : aye(a,b)"
   ]
  },
  {
   "cell_type": "code",
   "execution_count": 10,
   "metadata": {},
   "outputs": [
    {
     "name": "stdout",
     "output_type": "stream",
     "text": [
      "AYE\n",
      "NAY\n",
      "AYE\n"
     ]
    },
    {
     "data": {
      "text/plain": [
       "[None, None, None]"
      ]
     },
     "execution_count": 10,
     "metadata": {},
     "output_type": "execute_result"
    }
   ],
   "source": [
    "funcs = [lambda a, b: aye(a, b)]\n",
    "for fun in funcs:\n",
    "    fun()"
   ]
  },
  {
   "cell_type": "code",
   "execution_count": null,
   "metadata": {},
   "outputs": [],
   "source": []
  }
 ],
 "metadata": {
  "kernelspec": {
   "display_name": "Python 3",
   "language": "python",
   "name": "python3"
  },
  "language_info": {
   "codemirror_mode": {
    "name": "ipython",
    "version": 3
   },
   "file_extension": ".py",
   "mimetype": "text/x-python",
   "name": "python",
   "nbconvert_exporter": "python",
   "pygments_lexer": "ipython3",
   "version": "3.10.7"
  }
 },
 "nbformat": 4,
 "nbformat_minor": 2
}

{
 "cells": [
  {
   "cell_type": "code",
   "execution_count": 1,
   "metadata": {},
   "outputs": [],
   "source": [
    "from search_project.llm import OpenaiGpt\n",
    "from search_project.context import Conversation, Context\n",
    "from search_project.personas import Assistant\n",
    "from search_project.orchestrator import Orchestrator"
   ]
  },
  {
   "cell_type": "code",
   "execution_count": 3,
   "metadata": {},
   "outputs": [
    {
     "ename": "NameError",
     "evalue": "name 'Context' is not defined",
     "output_type": "error",
     "traceback": [
      "\u001b[1;31m---------------------------------------------------------------------------\u001b[0m",
      "\u001b[1;31mNameError\u001b[0m                                 Traceback (most recent call last)",
      "Cell \u001b[1;32mIn[3], line 1\u001b[0m\n\u001b[1;32m----> 1\u001b[0m orchestrator \u001b[39m=\u001b[39m Orchestrator(llm\u001b[39m=\u001b[39;49mOpenaiGpt(), persona\u001b[39m=\u001b[39;49mAssistant())\n",
      "File \u001b[1;32mC:\\Projects\\Personal\\mono\\python\\search_project\\search_project\\orchestrator.py:4\u001b[0m, in \u001b[0;36mOrchestrator.__init__\u001b[1;34m(self, llm, persona)\u001b[0m\n\u001b[0;32m      2\u001b[0m \u001b[39mdef\u001b[39;00m \u001b[39m__init__\u001b[39m(\u001b[39mself\u001b[39m, llm: \u001b[39m\"\u001b[39m\u001b[39mLLM\u001b[39m\u001b[39m\"\u001b[39m, persona):\n\u001b[0;32m      3\u001b[0m     \u001b[39mself\u001b[39m\u001b[39m.\u001b[39mllm \u001b[39m=\u001b[39m llm\n\u001b[1;32m----> 4\u001b[0m     \u001b[39mself\u001b[39m\u001b[39m.\u001b[39mcontext \u001b[39m=\u001b[39m Context(persona)\n",
      "\u001b[1;31mNameError\u001b[0m: name 'Context' is not defined"
     ]
    }
   ],
   "source": [
    "orchestrator = Orchestrator(llm=OpenaiGpt(), persona=Assistant())"
   ]
  },
  {
   "cell_type": "code",
   "execution_count": 2,
   "metadata": {},
   "outputs": [],
   "source": [
    "context = Context(llm=OpenaiGpt(), persona=Assistant())"
   ]
  },
  {
   "cell_type": "code",
   "execution_count": 5,
   "metadata": {},
   "outputs": [
    {
     "name": "stdout",
     "output_type": "stream",
     "text": [
      "assistant: Hello Jakob! How may I assist you today?\n",
      "\n",
      "\n"
     ]
    }
   ],
   "source": [
    "context.add_user_message(\"Hello, I am Jakob\")"
   ]
  },
  {
   "cell_type": "code",
   "execution_count": 8,
   "metadata": {},
   "outputs": [
    {
     "name": "stdout",
     "output_type": "stream",
     "text": [
      "assistant: I apologize, but as an AI assistant, I don't have access to personal information about individuals unless it has been shared with me in the course of our conversation. My primary function is to provide helpful information and assist with any questions you may have. Is there anything specific you would like to know or discuss?\n",
      "\n",
      "\n"
     ]
    }
   ],
   "source": [
    "context.add_user_message(\"What is my name?\")"
   ]
  },
  {
   "cell_type": "code",
   "execution_count": 7,
   "metadata": {},
   "outputs": [],
   "source": [
    "context.add_user_message(\"/clear\")"
   ]
  },
  {
   "cell_type": "code",
   "execution_count": null,
   "metadata": {},
   "outputs": [],
   "source": []
  }
 ],
 "metadata": {
  "kernelspec": {
   "display_name": "search-project-zw2Lj6Hw-py3.10",
   "language": "python",
   "name": "python3"
  },
  "language_info": {
   "codemirror_mode": {
    "name": "ipython",
    "version": 3
   },
   "file_extension": ".py",
   "mimetype": "text/x-python",
   "name": "python",
   "nbconvert_exporter": "python",
   "pygments_lexer": "ipython3",
   "version": "3.10.7"
  },
  "orig_nbformat": 4
 },
 "nbformat": 4,
 "nbformat_minor": 2
}
